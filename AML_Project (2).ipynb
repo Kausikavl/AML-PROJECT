{
  "cells": [
    {
      "cell_type": "markdown",
      "id": "2d3e9d68",
      "metadata": {
        "id": "2d3e9d68"
      },
      "source": [
        "# Alzheimer's diesease prediction using text data set"
      ]
    },
    {
      "cell_type": "code",
      "execution_count": null,
      "id": "0a34dfd4",
      "metadata": {
        "id": "0a34dfd4"
      },
      "outputs": [],
      "source": [
        "import pandas as pd\n",
        "import nltk\n",
        "import re\n",
        "import contractions"
      ]
    },
    {
      "cell_type": "code",
      "execution_count": null,
      "id": "081d0323",
      "metadata": {
        "id": "081d0323",
        "colab": {
          "base_uri": "https://localhost:8080/"
        },
        "outputId": "8da2867f-e566-48d8-8310-714c11d1efd5"
      },
      "outputs": [
        {
          "output_type": "stream",
          "name": "stdout",
          "text": [
            "Requirement already satisfied: contractions in /usr/local/lib/python3.10/dist-packages (0.1.73)\n",
            "Requirement already satisfied: textsearch>=0.0.21 in /usr/local/lib/python3.10/dist-packages (from contractions) (0.0.24)\n",
            "Requirement already satisfied: anyascii in /usr/local/lib/python3.10/dist-packages (from textsearch>=0.0.21->contractions) (0.3.2)\n",
            "Requirement already satisfied: pyahocorasick in /usr/local/lib/python3.10/dist-packages (from textsearch>=0.0.21->contractions) (2.0.0)\n"
          ]
        }
      ],
      "source": [
        "pip install contractions"
      ]
    },
    {
      "cell_type": "code",
      "execution_count": null,
      "id": "5a4a7eff",
      "metadata": {
        "id": "5a4a7eff"
      },
      "outputs": [],
      "source": [
        "column_names=['label','text']"
      ]
    },
    {
      "cell_type": "code",
      "execution_count": null,
      "id": "a775cac5",
      "metadata": {
        "id": "a775cac5"
      },
      "outputs": [],
      "source": [
        "data=pd.read_csv(r\"/content/data (2).csv\",encoding='unicode_escape',header=None,names=column_names)"
      ]
    },
    {
      "cell_type": "code",
      "execution_count": null,
      "id": "1a5d71d5",
      "metadata": {
        "id": "1a5d71d5",
        "colab": {
          "base_uri": "https://localhost:8080/",
          "height": 423
        },
        "outputId": "b7ee2d47-f3e6-469d-95fd-15ca2139f3f7"
      },
      "outputs": [
        {
          "output_type": "execute_result",
          "data": {
            "text/plain": [
              "        label                                               text\n",
              "0    positive   the scene is in the in the kitchen . the moth...\n",
              "1    positive   oh I see the sink is running over . I see the...\n",
              "2    positive   a boy and a girl are in the kitchen with thei...\n",
              "3    positive    it was summertime and mother and the childre...\n",
              "4    positive   wait until I put my glasses on . oh ? there's...\n",
              "..        ...                                                ...\n",
              "493  negative    well this one is in the cookie jar . and thi...\n",
              "494  negative    the little boy is on the stool which is tipp...\n",
              "495  negative   oh you want me to tell you . the mother and h...\n",
              "496  negative   oh that kid's gonna get a good spill off of t...\n",
              "497  negative   ah oh boy .  oh the kids are trying to get th...\n",
              "\n",
              "[498 rows x 2 columns]"
            ],
            "text/html": [
              "\n",
              "  <div id=\"df-4b0a2cfe-2769-4243-ab67-6717dfb3579d\" class=\"colab-df-container\">\n",
              "    <div>\n",
              "<style scoped>\n",
              "    .dataframe tbody tr th:only-of-type {\n",
              "        vertical-align: middle;\n",
              "    }\n",
              "\n",
              "    .dataframe tbody tr th {\n",
              "        vertical-align: top;\n",
              "    }\n",
              "\n",
              "    .dataframe thead th {\n",
              "        text-align: right;\n",
              "    }\n",
              "</style>\n",
              "<table border=\"1\" class=\"dataframe\">\n",
              "  <thead>\n",
              "    <tr style=\"text-align: right;\">\n",
              "      <th></th>\n",
              "      <th>label</th>\n",
              "      <th>text</th>\n",
              "    </tr>\n",
              "  </thead>\n",
              "  <tbody>\n",
              "    <tr>\n",
              "      <th>0</th>\n",
              "      <td>positive</td>\n",
              "      <td>the scene is in the in the kitchen . the moth...</td>\n",
              "    </tr>\n",
              "    <tr>\n",
              "      <th>1</th>\n",
              "      <td>positive</td>\n",
              "      <td>oh I see the sink is running over . I see the...</td>\n",
              "    </tr>\n",
              "    <tr>\n",
              "      <th>2</th>\n",
              "      <td>positive</td>\n",
              "      <td>a boy and a girl are in the kitchen with thei...</td>\n",
              "    </tr>\n",
              "    <tr>\n",
              "      <th>3</th>\n",
              "      <td>positive</td>\n",
              "      <td>it was summertime and mother and the childre...</td>\n",
              "    </tr>\n",
              "    <tr>\n",
              "      <th>4</th>\n",
              "      <td>positive</td>\n",
              "      <td>wait until I put my glasses on . oh ? there's...</td>\n",
              "    </tr>\n",
              "    <tr>\n",
              "      <th>...</th>\n",
              "      <td>...</td>\n",
              "      <td>...</td>\n",
              "    </tr>\n",
              "    <tr>\n",
              "      <th>493</th>\n",
              "      <td>negative</td>\n",
              "      <td>well this one is in the cookie jar . and thi...</td>\n",
              "    </tr>\n",
              "    <tr>\n",
              "      <th>494</th>\n",
              "      <td>negative</td>\n",
              "      <td>the little boy is on the stool which is tipp...</td>\n",
              "    </tr>\n",
              "    <tr>\n",
              "      <th>495</th>\n",
              "      <td>negative</td>\n",
              "      <td>oh you want me to tell you . the mother and h...</td>\n",
              "    </tr>\n",
              "    <tr>\n",
              "      <th>496</th>\n",
              "      <td>negative</td>\n",
              "      <td>oh that kid's gonna get a good spill off of t...</td>\n",
              "    </tr>\n",
              "    <tr>\n",
              "      <th>497</th>\n",
              "      <td>negative</td>\n",
              "      <td>ah oh boy .  oh the kids are trying to get th...</td>\n",
              "    </tr>\n",
              "  </tbody>\n",
              "</table>\n",
              "<p>498 rows × 2 columns</p>\n",
              "</div>\n",
              "    <div class=\"colab-df-buttons\">\n",
              "\n",
              "  <div class=\"colab-df-container\">\n",
              "    <button class=\"colab-df-convert\" onclick=\"convertToInteractive('df-4b0a2cfe-2769-4243-ab67-6717dfb3579d')\"\n",
              "            title=\"Convert this dataframe to an interactive table.\"\n",
              "            style=\"display:none;\">\n",
              "\n",
              "  <svg xmlns=\"http://www.w3.org/2000/svg\" height=\"24px\" viewBox=\"0 -960 960 960\">\n",
              "    <path d=\"M120-120v-720h720v720H120Zm60-500h600v-160H180v160Zm220 220h160v-160H400v160Zm0 220h160v-160H400v160ZM180-400h160v-160H180v160Zm440 0h160v-160H620v160ZM180-180h160v-160H180v160Zm440 0h160v-160H620v160Z\"/>\n",
              "  </svg>\n",
              "    </button>\n",
              "\n",
              "  <style>\n",
              "    .colab-df-container {\n",
              "      display:flex;\n",
              "      gap: 12px;\n",
              "    }\n",
              "\n",
              "    .colab-df-convert {\n",
              "      background-color: #E8F0FE;\n",
              "      border: none;\n",
              "      border-radius: 50%;\n",
              "      cursor: pointer;\n",
              "      display: none;\n",
              "      fill: #1967D2;\n",
              "      height: 32px;\n",
              "      padding: 0 0 0 0;\n",
              "      width: 32px;\n",
              "    }\n",
              "\n",
              "    .colab-df-convert:hover {\n",
              "      background-color: #E2EBFA;\n",
              "      box-shadow: 0px 1px 2px rgba(60, 64, 67, 0.3), 0px 1px 3px 1px rgba(60, 64, 67, 0.15);\n",
              "      fill: #174EA6;\n",
              "    }\n",
              "\n",
              "    .colab-df-buttons div {\n",
              "      margin-bottom: 4px;\n",
              "    }\n",
              "\n",
              "    [theme=dark] .colab-df-convert {\n",
              "      background-color: #3B4455;\n",
              "      fill: #D2E3FC;\n",
              "    }\n",
              "\n",
              "    [theme=dark] .colab-df-convert:hover {\n",
              "      background-color: #434B5C;\n",
              "      box-shadow: 0px 1px 3px 1px rgba(0, 0, 0, 0.15);\n",
              "      filter: drop-shadow(0px 1px 2px rgba(0, 0, 0, 0.3));\n",
              "      fill: #FFFFFF;\n",
              "    }\n",
              "  </style>\n",
              "\n",
              "    <script>\n",
              "      const buttonEl =\n",
              "        document.querySelector('#df-4b0a2cfe-2769-4243-ab67-6717dfb3579d button.colab-df-convert');\n",
              "      buttonEl.style.display =\n",
              "        google.colab.kernel.accessAllowed ? 'block' : 'none';\n",
              "\n",
              "      async function convertToInteractive(key) {\n",
              "        const element = document.querySelector('#df-4b0a2cfe-2769-4243-ab67-6717dfb3579d');\n",
              "        const dataTable =\n",
              "          await google.colab.kernel.invokeFunction('convertToInteractive',\n",
              "                                                    [key], {});\n",
              "        if (!dataTable) return;\n",
              "\n",
              "        const docLinkHtml = 'Like what you see? Visit the ' +\n",
              "          '<a target=\"_blank\" href=https://colab.research.google.com/notebooks/data_table.ipynb>data table notebook</a>'\n",
              "          + ' to learn more about interactive tables.';\n",
              "        element.innerHTML = '';\n",
              "        dataTable['output_type'] = 'display_data';\n",
              "        await google.colab.output.renderOutput(dataTable, element);\n",
              "        const docLink = document.createElement('div');\n",
              "        docLink.innerHTML = docLinkHtml;\n",
              "        element.appendChild(docLink);\n",
              "      }\n",
              "    </script>\n",
              "  </div>\n",
              "\n",
              "\n",
              "<div id=\"df-5cc2cbd4-5bad-4be0-99ff-bc079f29ab07\">\n",
              "  <button class=\"colab-df-quickchart\" onclick=\"quickchart('df-5cc2cbd4-5bad-4be0-99ff-bc079f29ab07')\"\n",
              "            title=\"Suggest charts.\"\n",
              "            style=\"display:none;\">\n",
              "\n",
              "<svg xmlns=\"http://www.w3.org/2000/svg\" height=\"24px\"viewBox=\"0 0 24 24\"\n",
              "     width=\"24px\">\n",
              "    <g>\n",
              "        <path d=\"M19 3H5c-1.1 0-2 .9-2 2v14c0 1.1.9 2 2 2h14c1.1 0 2-.9 2-2V5c0-1.1-.9-2-2-2zM9 17H7v-7h2v7zm4 0h-2V7h2v10zm4 0h-2v-4h2v4z\"/>\n",
              "    </g>\n",
              "</svg>\n",
              "  </button>\n",
              "\n",
              "<style>\n",
              "  .colab-df-quickchart {\n",
              "      --bg-color: #E8F0FE;\n",
              "      --fill-color: #1967D2;\n",
              "      --hover-bg-color: #E2EBFA;\n",
              "      --hover-fill-color: #174EA6;\n",
              "      --disabled-fill-color: #AAA;\n",
              "      --disabled-bg-color: #DDD;\n",
              "  }\n",
              "\n",
              "  [theme=dark] .colab-df-quickchart {\n",
              "      --bg-color: #3B4455;\n",
              "      --fill-color: #D2E3FC;\n",
              "      --hover-bg-color: #434B5C;\n",
              "      --hover-fill-color: #FFFFFF;\n",
              "      --disabled-bg-color: #3B4455;\n",
              "      --disabled-fill-color: #666;\n",
              "  }\n",
              "\n",
              "  .colab-df-quickchart {\n",
              "    background-color: var(--bg-color);\n",
              "    border: none;\n",
              "    border-radius: 50%;\n",
              "    cursor: pointer;\n",
              "    display: none;\n",
              "    fill: var(--fill-color);\n",
              "    height: 32px;\n",
              "    padding: 0;\n",
              "    width: 32px;\n",
              "  }\n",
              "\n",
              "  .colab-df-quickchart:hover {\n",
              "    background-color: var(--hover-bg-color);\n",
              "    box-shadow: 0 1px 2px rgba(60, 64, 67, 0.3), 0 1px 3px 1px rgba(60, 64, 67, 0.15);\n",
              "    fill: var(--button-hover-fill-color);\n",
              "  }\n",
              "\n",
              "  .colab-df-quickchart-complete:disabled,\n",
              "  .colab-df-quickchart-complete:disabled:hover {\n",
              "    background-color: var(--disabled-bg-color);\n",
              "    fill: var(--disabled-fill-color);\n",
              "    box-shadow: none;\n",
              "  }\n",
              "\n",
              "  .colab-df-spinner {\n",
              "    border: 2px solid var(--fill-color);\n",
              "    border-color: transparent;\n",
              "    border-bottom-color: var(--fill-color);\n",
              "    animation:\n",
              "      spin 1s steps(1) infinite;\n",
              "  }\n",
              "\n",
              "  @keyframes spin {\n",
              "    0% {\n",
              "      border-color: transparent;\n",
              "      border-bottom-color: var(--fill-color);\n",
              "      border-left-color: var(--fill-color);\n",
              "    }\n",
              "    20% {\n",
              "      border-color: transparent;\n",
              "      border-left-color: var(--fill-color);\n",
              "      border-top-color: var(--fill-color);\n",
              "    }\n",
              "    30% {\n",
              "      border-color: transparent;\n",
              "      border-left-color: var(--fill-color);\n",
              "      border-top-color: var(--fill-color);\n",
              "      border-right-color: var(--fill-color);\n",
              "    }\n",
              "    40% {\n",
              "      border-color: transparent;\n",
              "      border-right-color: var(--fill-color);\n",
              "      border-top-color: var(--fill-color);\n",
              "    }\n",
              "    60% {\n",
              "      border-color: transparent;\n",
              "      border-right-color: var(--fill-color);\n",
              "    }\n",
              "    80% {\n",
              "      border-color: transparent;\n",
              "      border-right-color: var(--fill-color);\n",
              "      border-bottom-color: var(--fill-color);\n",
              "    }\n",
              "    90% {\n",
              "      border-color: transparent;\n",
              "      border-bottom-color: var(--fill-color);\n",
              "    }\n",
              "  }\n",
              "</style>\n",
              "\n",
              "  <script>\n",
              "    async function quickchart(key) {\n",
              "      const quickchartButtonEl =\n",
              "        document.querySelector('#' + key + ' button');\n",
              "      quickchartButtonEl.disabled = true;  // To prevent multiple clicks.\n",
              "      quickchartButtonEl.classList.add('colab-df-spinner');\n",
              "      try {\n",
              "        const charts = await google.colab.kernel.invokeFunction(\n",
              "            'suggestCharts', [key], {});\n",
              "      } catch (error) {\n",
              "        console.error('Error during call to suggestCharts:', error);\n",
              "      }\n",
              "      quickchartButtonEl.classList.remove('colab-df-spinner');\n",
              "      quickchartButtonEl.classList.add('colab-df-quickchart-complete');\n",
              "    }\n",
              "    (() => {\n",
              "      let quickchartButtonEl =\n",
              "        document.querySelector('#df-5cc2cbd4-5bad-4be0-99ff-bc079f29ab07 button');\n",
              "      quickchartButtonEl.style.display =\n",
              "        google.colab.kernel.accessAllowed ? 'block' : 'none';\n",
              "    })();\n",
              "  </script>\n",
              "</div>\n",
              "    </div>\n",
              "  </div>\n"
            ]
          },
          "metadata": {},
          "execution_count": 53
        }
      ],
      "source": [
        "data"
      ]
    },
    {
      "cell_type": "markdown",
      "id": "c300f349",
      "metadata": {
        "id": "c300f349"
      },
      "source": [
        "# Preprocessing"
      ]
    },
    {
      "cell_type": "code",
      "execution_count": null,
      "id": "b30ea65a",
      "metadata": {
        "id": "b30ea65a"
      },
      "outputs": [],
      "source": [
        "# Function to remove punctuations\n",
        "def remove_punctuations(text):\n",
        "    cleaned_text = re.sub(r'[^\\w\\s]', '', text)\n",
        "    return cleaned_text"
      ]
    },
    {
      "cell_type": "code",
      "execution_count": null,
      "id": "6ebea6ea",
      "metadata": {
        "id": "6ebea6ea"
      },
      "outputs": [],
      "source": [
        "# Function to remove words and digits containing digits\n",
        "def remove_words_with_digits(text):\n",
        "    cleaned_text = re.sub(r'\\w*\\d\\w*', '', text)\n",
        "    return cleaned_text"
      ]
    },
    {
      "cell_type": "code",
      "execution_count": null,
      "id": "7b18badf",
      "metadata": {
        "id": "7b18badf"
      },
      "outputs": [],
      "source": [
        "# Function to remove extra spaces\n",
        "def remove_extra_spaces(text):\n",
        "    cleaned_text = re.sub(' +', ' ', text)\n",
        "    return cleaned_text.strip()"
      ]
    },
    {
      "cell_type": "code",
      "execution_count": null,
      "id": "884980b0",
      "metadata": {
        "id": "884980b0"
      },
      "outputs": [],
      "source": [
        "# Function to expand contractions\n",
        "def expand_contractions(text):\n",
        "    expanded_text = contractions.fix(text)\n",
        "    return expanded_text\n"
      ]
    },
    {
      "cell_type": "code",
      "execution_count": null,
      "id": "1bb1aa34",
      "metadata": {
        "id": "1bb1aa34"
      },
      "outputs": [],
      "source": [
        "#Apply\n",
        "data['text'] = data['text'].str.lower()\n",
        "data['text'] = data['text'].apply(remove_punctuations)\n",
        "data['text'] = data['text'].apply(remove_words_with_digits)\n",
        "data['text'] = data['text'].apply(remove_extra_spaces)\n",
        "data['text'] = data['text'].apply(expand_contractions)"
      ]
    },
    {
      "cell_type": "code",
      "execution_count": null,
      "id": "14987a67",
      "metadata": {
        "id": "14987a67",
        "colab": {
          "base_uri": "https://localhost:8080/",
          "height": 423
        },
        "outputId": "536c3ef9-15f6-4ac6-d1f2-614b3fb983ea"
      },
      "outputs": [
        {
          "output_type": "execute_result",
          "data": {
            "text/plain": [
              "        label                                               text\n",
              "0    positive  the scene is in the in the kitchen the mother ...\n",
              "1    positive  oh i see the sink is running over i see the st...\n",
              "2    positive  a boy and a girl are in the kitchen with their...\n",
              "3    positive  it was summertime and mother and the children ...\n",
              "4    positive  wait until i put my glasses on oh there is a g...\n",
              "..        ...                                                ...\n",
              "493  negative  well this one is in the cookie jar and this is...\n",
              "494  negative  the little boy is on the stool which is tippin...\n",
              "495  negative  oh you want me to tell you the mother and her ...\n",
              "496  negative  oh that kids going to get a good spill off of ...\n",
              "497  negative  ah oh boy oh the kids are trying to get the co...\n",
              "\n",
              "[498 rows x 2 columns]"
            ],
            "text/html": [
              "\n",
              "  <div id=\"df-cb0bea45-1abe-46ff-b378-52a1f52d20bb\" class=\"colab-df-container\">\n",
              "    <div>\n",
              "<style scoped>\n",
              "    .dataframe tbody tr th:only-of-type {\n",
              "        vertical-align: middle;\n",
              "    }\n",
              "\n",
              "    .dataframe tbody tr th {\n",
              "        vertical-align: top;\n",
              "    }\n",
              "\n",
              "    .dataframe thead th {\n",
              "        text-align: right;\n",
              "    }\n",
              "</style>\n",
              "<table border=\"1\" class=\"dataframe\">\n",
              "  <thead>\n",
              "    <tr style=\"text-align: right;\">\n",
              "      <th></th>\n",
              "      <th>label</th>\n",
              "      <th>text</th>\n",
              "    </tr>\n",
              "  </thead>\n",
              "  <tbody>\n",
              "    <tr>\n",
              "      <th>0</th>\n",
              "      <td>positive</td>\n",
              "      <td>the scene is in the in the kitchen the mother ...</td>\n",
              "    </tr>\n",
              "    <tr>\n",
              "      <th>1</th>\n",
              "      <td>positive</td>\n",
              "      <td>oh i see the sink is running over i see the st...</td>\n",
              "    </tr>\n",
              "    <tr>\n",
              "      <th>2</th>\n",
              "      <td>positive</td>\n",
              "      <td>a boy and a girl are in the kitchen with their...</td>\n",
              "    </tr>\n",
              "    <tr>\n",
              "      <th>3</th>\n",
              "      <td>positive</td>\n",
              "      <td>it was summertime and mother and the children ...</td>\n",
              "    </tr>\n",
              "    <tr>\n",
              "      <th>4</th>\n",
              "      <td>positive</td>\n",
              "      <td>wait until i put my glasses on oh there is a g...</td>\n",
              "    </tr>\n",
              "    <tr>\n",
              "      <th>...</th>\n",
              "      <td>...</td>\n",
              "      <td>...</td>\n",
              "    </tr>\n",
              "    <tr>\n",
              "      <th>493</th>\n",
              "      <td>negative</td>\n",
              "      <td>well this one is in the cookie jar and this is...</td>\n",
              "    </tr>\n",
              "    <tr>\n",
              "      <th>494</th>\n",
              "      <td>negative</td>\n",
              "      <td>the little boy is on the stool which is tippin...</td>\n",
              "    </tr>\n",
              "    <tr>\n",
              "      <th>495</th>\n",
              "      <td>negative</td>\n",
              "      <td>oh you want me to tell you the mother and her ...</td>\n",
              "    </tr>\n",
              "    <tr>\n",
              "      <th>496</th>\n",
              "      <td>negative</td>\n",
              "      <td>oh that kids going to get a good spill off of ...</td>\n",
              "    </tr>\n",
              "    <tr>\n",
              "      <th>497</th>\n",
              "      <td>negative</td>\n",
              "      <td>ah oh boy oh the kids are trying to get the co...</td>\n",
              "    </tr>\n",
              "  </tbody>\n",
              "</table>\n",
              "<p>498 rows × 2 columns</p>\n",
              "</div>\n",
              "    <div class=\"colab-df-buttons\">\n",
              "\n",
              "  <div class=\"colab-df-container\">\n",
              "    <button class=\"colab-df-convert\" onclick=\"convertToInteractive('df-cb0bea45-1abe-46ff-b378-52a1f52d20bb')\"\n",
              "            title=\"Convert this dataframe to an interactive table.\"\n",
              "            style=\"display:none;\">\n",
              "\n",
              "  <svg xmlns=\"http://www.w3.org/2000/svg\" height=\"24px\" viewBox=\"0 -960 960 960\">\n",
              "    <path d=\"M120-120v-720h720v720H120Zm60-500h600v-160H180v160Zm220 220h160v-160H400v160Zm0 220h160v-160H400v160ZM180-400h160v-160H180v160Zm440 0h160v-160H620v160ZM180-180h160v-160H180v160Zm440 0h160v-160H620v160Z\"/>\n",
              "  </svg>\n",
              "    </button>\n",
              "\n",
              "  <style>\n",
              "    .colab-df-container {\n",
              "      display:flex;\n",
              "      gap: 12px;\n",
              "    }\n",
              "\n",
              "    .colab-df-convert {\n",
              "      background-color: #E8F0FE;\n",
              "      border: none;\n",
              "      border-radius: 50%;\n",
              "      cursor: pointer;\n",
              "      display: none;\n",
              "      fill: #1967D2;\n",
              "      height: 32px;\n",
              "      padding: 0 0 0 0;\n",
              "      width: 32px;\n",
              "    }\n",
              "\n",
              "    .colab-df-convert:hover {\n",
              "      background-color: #E2EBFA;\n",
              "      box-shadow: 0px 1px 2px rgba(60, 64, 67, 0.3), 0px 1px 3px 1px rgba(60, 64, 67, 0.15);\n",
              "      fill: #174EA6;\n",
              "    }\n",
              "\n",
              "    .colab-df-buttons div {\n",
              "      margin-bottom: 4px;\n",
              "    }\n",
              "\n",
              "    [theme=dark] .colab-df-convert {\n",
              "      background-color: #3B4455;\n",
              "      fill: #D2E3FC;\n",
              "    }\n",
              "\n",
              "    [theme=dark] .colab-df-convert:hover {\n",
              "      background-color: #434B5C;\n",
              "      box-shadow: 0px 1px 3px 1px rgba(0, 0, 0, 0.15);\n",
              "      filter: drop-shadow(0px 1px 2px rgba(0, 0, 0, 0.3));\n",
              "      fill: #FFFFFF;\n",
              "    }\n",
              "  </style>\n",
              "\n",
              "    <script>\n",
              "      const buttonEl =\n",
              "        document.querySelector('#df-cb0bea45-1abe-46ff-b378-52a1f52d20bb button.colab-df-convert');\n",
              "      buttonEl.style.display =\n",
              "        google.colab.kernel.accessAllowed ? 'block' : 'none';\n",
              "\n",
              "      async function convertToInteractive(key) {\n",
              "        const element = document.querySelector('#df-cb0bea45-1abe-46ff-b378-52a1f52d20bb');\n",
              "        const dataTable =\n",
              "          await google.colab.kernel.invokeFunction('convertToInteractive',\n",
              "                                                    [key], {});\n",
              "        if (!dataTable) return;\n",
              "\n",
              "        const docLinkHtml = 'Like what you see? Visit the ' +\n",
              "          '<a target=\"_blank\" href=https://colab.research.google.com/notebooks/data_table.ipynb>data table notebook</a>'\n",
              "          + ' to learn more about interactive tables.';\n",
              "        element.innerHTML = '';\n",
              "        dataTable['output_type'] = 'display_data';\n",
              "        await google.colab.output.renderOutput(dataTable, element);\n",
              "        const docLink = document.createElement('div');\n",
              "        docLink.innerHTML = docLinkHtml;\n",
              "        element.appendChild(docLink);\n",
              "      }\n",
              "    </script>\n",
              "  </div>\n",
              "\n",
              "\n",
              "<div id=\"df-a96aad40-bf3e-4a9a-9387-18154185c9ed\">\n",
              "  <button class=\"colab-df-quickchart\" onclick=\"quickchart('df-a96aad40-bf3e-4a9a-9387-18154185c9ed')\"\n",
              "            title=\"Suggest charts.\"\n",
              "            style=\"display:none;\">\n",
              "\n",
              "<svg xmlns=\"http://www.w3.org/2000/svg\" height=\"24px\"viewBox=\"0 0 24 24\"\n",
              "     width=\"24px\">\n",
              "    <g>\n",
              "        <path d=\"M19 3H5c-1.1 0-2 .9-2 2v14c0 1.1.9 2 2 2h14c1.1 0 2-.9 2-2V5c0-1.1-.9-2-2-2zM9 17H7v-7h2v7zm4 0h-2V7h2v10zm4 0h-2v-4h2v4z\"/>\n",
              "    </g>\n",
              "</svg>\n",
              "  </button>\n",
              "\n",
              "<style>\n",
              "  .colab-df-quickchart {\n",
              "      --bg-color: #E8F0FE;\n",
              "      --fill-color: #1967D2;\n",
              "      --hover-bg-color: #E2EBFA;\n",
              "      --hover-fill-color: #174EA6;\n",
              "      --disabled-fill-color: #AAA;\n",
              "      --disabled-bg-color: #DDD;\n",
              "  }\n",
              "\n",
              "  [theme=dark] .colab-df-quickchart {\n",
              "      --bg-color: #3B4455;\n",
              "      --fill-color: #D2E3FC;\n",
              "      --hover-bg-color: #434B5C;\n",
              "      --hover-fill-color: #FFFFFF;\n",
              "      --disabled-bg-color: #3B4455;\n",
              "      --disabled-fill-color: #666;\n",
              "  }\n",
              "\n",
              "  .colab-df-quickchart {\n",
              "    background-color: var(--bg-color);\n",
              "    border: none;\n",
              "    border-radius: 50%;\n",
              "    cursor: pointer;\n",
              "    display: none;\n",
              "    fill: var(--fill-color);\n",
              "    height: 32px;\n",
              "    padding: 0;\n",
              "    width: 32px;\n",
              "  }\n",
              "\n",
              "  .colab-df-quickchart:hover {\n",
              "    background-color: var(--hover-bg-color);\n",
              "    box-shadow: 0 1px 2px rgba(60, 64, 67, 0.3), 0 1px 3px 1px rgba(60, 64, 67, 0.15);\n",
              "    fill: var(--button-hover-fill-color);\n",
              "  }\n",
              "\n",
              "  .colab-df-quickchart-complete:disabled,\n",
              "  .colab-df-quickchart-complete:disabled:hover {\n",
              "    background-color: var(--disabled-bg-color);\n",
              "    fill: var(--disabled-fill-color);\n",
              "    box-shadow: none;\n",
              "  }\n",
              "\n",
              "  .colab-df-spinner {\n",
              "    border: 2px solid var(--fill-color);\n",
              "    border-color: transparent;\n",
              "    border-bottom-color: var(--fill-color);\n",
              "    animation:\n",
              "      spin 1s steps(1) infinite;\n",
              "  }\n",
              "\n",
              "  @keyframes spin {\n",
              "    0% {\n",
              "      border-color: transparent;\n",
              "      border-bottom-color: var(--fill-color);\n",
              "      border-left-color: var(--fill-color);\n",
              "    }\n",
              "    20% {\n",
              "      border-color: transparent;\n",
              "      border-left-color: var(--fill-color);\n",
              "      border-top-color: var(--fill-color);\n",
              "    }\n",
              "    30% {\n",
              "      border-color: transparent;\n",
              "      border-left-color: var(--fill-color);\n",
              "      border-top-color: var(--fill-color);\n",
              "      border-right-color: var(--fill-color);\n",
              "    }\n",
              "    40% {\n",
              "      border-color: transparent;\n",
              "      border-right-color: var(--fill-color);\n",
              "      border-top-color: var(--fill-color);\n",
              "    }\n",
              "    60% {\n",
              "      border-color: transparent;\n",
              "      border-right-color: var(--fill-color);\n",
              "    }\n",
              "    80% {\n",
              "      border-color: transparent;\n",
              "      border-right-color: var(--fill-color);\n",
              "      border-bottom-color: var(--fill-color);\n",
              "    }\n",
              "    90% {\n",
              "      border-color: transparent;\n",
              "      border-bottom-color: var(--fill-color);\n",
              "    }\n",
              "  }\n",
              "</style>\n",
              "\n",
              "  <script>\n",
              "    async function quickchart(key) {\n",
              "      const quickchartButtonEl =\n",
              "        document.querySelector('#' + key + ' button');\n",
              "      quickchartButtonEl.disabled = true;  // To prevent multiple clicks.\n",
              "      quickchartButtonEl.classList.add('colab-df-spinner');\n",
              "      try {\n",
              "        const charts = await google.colab.kernel.invokeFunction(\n",
              "            'suggestCharts', [key], {});\n",
              "      } catch (error) {\n",
              "        console.error('Error during call to suggestCharts:', error);\n",
              "      }\n",
              "      quickchartButtonEl.classList.remove('colab-df-spinner');\n",
              "      quickchartButtonEl.classList.add('colab-df-quickchart-complete');\n",
              "    }\n",
              "    (() => {\n",
              "      let quickchartButtonEl =\n",
              "        document.querySelector('#df-a96aad40-bf3e-4a9a-9387-18154185c9ed button');\n",
              "      quickchartButtonEl.style.display =\n",
              "        google.colab.kernel.accessAllowed ? 'block' : 'none';\n",
              "    })();\n",
              "  </script>\n",
              "</div>\n",
              "    </div>\n",
              "  </div>\n"
            ]
          },
          "metadata": {},
          "execution_count": 59
        }
      ],
      "source": [
        "data"
      ]
    },
    {
      "cell_type": "markdown",
      "id": "15c81d73",
      "metadata": {
        "id": "15c81d73"
      },
      "source": [
        "# Naive Bayes"
      ]
    },
    {
      "cell_type": "code",
      "execution_count": null,
      "id": "16313231",
      "metadata": {
        "id": "16313231"
      },
      "outputs": [],
      "source": [
        "import pandas as pd\n",
        "from sklearn.feature_extraction.text import CountVectorizer\n",
        "from sklearn.model_selection import train_test_split\n",
        "from sklearn.naive_bayes import MultinomialNB, BernoulliNB\n",
        "from sklearn.metrics import accuracy_score"
      ]
    },
    {
      "cell_type": "code",
      "execution_count": null,
      "id": "e9117fbb",
      "metadata": {
        "id": "e9117fbb"
      },
      "outputs": [],
      "source": [
        "# Split the dataset into training and testing sets\n",
        "X_train, X_test, y_train, y_test = train_test_split(data['text'], data['label'], test_size=0.2, random_state=42)"
      ]
    },
    {
      "cell_type": "code",
      "execution_count": null,
      "id": "1d9767ae",
      "metadata": {
        "id": "1d9767ae"
      },
      "outputs": [],
      "source": [
        "# Create the feature vectors\n",
        "# 1) tokenization - i do not know=>[\"i\",\"do\",\"not\",\"know\"] 2)building vocabulary assign numbers to unique words 3)frequency count\n",
        "#term frequency-inverse document frequency (TF-IDF).\n",
        "\n",
        "\n",
        "\n",
        "vectorizer = CountVectorizer()\n",
        "X_train_vectorized = vectorizer.fit_transform(X_train)\n",
        "X_test_vectorized = vectorizer.transform(X_test)"
      ]
    },
    {
      "cell_type": "markdown",
      "id": "a88c10fa",
      "metadata": {
        "id": "a88c10fa"
      },
      "source": [
        "# Multinomial Naive Bayes"
      ]
    },
    {
      "cell_type": "code",
      "execution_count": null,
      "id": "998a3cd1",
      "metadata": {
        "id": "998a3cd1",
        "colab": {
          "base_uri": "https://localhost:8080/"
        },
        "outputId": "9fb35e54-74b7-4c0e-fb3e-3b818f2de775"
      },
      "outputs": [
        {
          "output_type": "stream",
          "name": "stdout",
          "text": [
            "Multinomial Naive Bayes Accuracy: 0.84\n"
          ]
        }
      ],
      "source": [
        "\n",
        "mnb = MultinomialNB()\n",
        "mnb.fit(X_train_vectorized, y_train)\n",
        "mnb_predictions = mnb.predict(X_test_vectorized)\n",
        "mnb_accuracy = accuracy_score(y_test, mnb_predictions)\n",
        "print(\"Multinomial Naive Bayes Accuracy:\", mnb_accuracy)\n"
      ]
    },
    {
      "cell_type": "markdown",
      "id": "ce82d9ac",
      "metadata": {
        "id": "ce82d9ac"
      },
      "source": [
        "# Bernoulli Naive Bayes"
      ]
    },
    {
      "cell_type": "code",
      "execution_count": null,
      "id": "3d400f94",
      "metadata": {
        "id": "3d400f94",
        "colab": {
          "base_uri": "https://localhost:8080/"
        },
        "outputId": "a3ce2726-67d8-40e8-bc9b-c458abbfca42"
      },
      "outputs": [
        {
          "output_type": "stream",
          "name": "stdout",
          "text": [
            "Bernoulli Naive Bayes Accuracy: 0.8\n"
          ]
        }
      ],
      "source": [
        "bnb = BernoulliNB()\n",
        "bnb.fit(X_train_vectorized, y_train)\n",
        "bnb_predictions = bnb.predict(X_test_vectorized)\n",
        "bnb_accuracy = accuracy_score(y_test, bnb_predictions)\n",
        "print(\"Bernoulli Naive Bayes Accuracy:\", bnb_accuracy)"
      ]
    },
    {
      "cell_type": "markdown",
      "id": "630d664f",
      "metadata": {
        "id": "630d664f"
      },
      "source": [
        "# Performance metrics"
      ]
    },
    {
      "cell_type": "code",
      "execution_count": null,
      "id": "47225cec",
      "metadata": {
        "id": "47225cec",
        "colab": {
          "base_uri": "https://localhost:8080/"
        },
        "outputId": "138e5466-697b-4a11-8f04-877434bf4ac9"
      },
      "outputs": [
        {
          "output_type": "stream",
          "name": "stdout",
          "text": [
            "Multinomial Naive Bayes Evaluation:\n",
            "              precision    recall  f1-score   support\n",
            "\n",
            "    negative       0.82      0.82      0.82        44\n",
            "    positive       0.86      0.86      0.86        56\n",
            "\n",
            "    accuracy                           0.84       100\n",
            "   macro avg       0.84      0.84      0.84       100\n",
            "weighted avg       0.84      0.84      0.84       100\n",
            "\n",
            "Confusion Matrix:\n",
            "[[36  8]\n",
            " [ 8 48]]\n",
            "AUC-ROC Score: 0.8938717532467532\n"
          ]
        }
      ],
      "source": [
        "from sklearn.metrics import classification_report, confusion_matrix, roc_auc_score\n",
        "\n",
        "# Calculate evaluation metrics for Multinomial Naive Bayes\n",
        "print(\"Multinomial Naive Bayes Evaluation:\")\n",
        "print(classification_report(y_test, mnb_predictions))\n",
        "print(\"Confusion Matrix:\")\n",
        "print(confusion_matrix(y_test, mnb_predictions))\n",
        "print(\"AUC-ROC Score:\", roc_auc_score(y_test, mnb.predict_proba(X_test_vectorized)[:, 1]))\n"
      ]
    },
    {
      "cell_type": "code",
      "execution_count": null,
      "id": "d1cf86fd",
      "metadata": {
        "id": "d1cf86fd",
        "colab": {
          "base_uri": "https://localhost:8080/"
        },
        "outputId": "0f09b737-d094-469a-c9fb-06fecb166abf"
      },
      "outputs": [
        {
          "output_type": "stream",
          "name": "stdout",
          "text": [
            "Bernoulli Naive Bayes Evaluation:\n",
            "              precision    recall  f1-score   support\n",
            "\n",
            "    negative       0.76      0.80      0.78        44\n",
            "    positive       0.83      0.80      0.82        56\n",
            "\n",
            "    accuracy                           0.80       100\n",
            "   macro avg       0.80      0.80      0.80       100\n",
            "weighted avg       0.80      0.80      0.80       100\n",
            "\n",
            "Confusion Matrix:\n",
            "[[35  9]\n",
            " [11 45]]\n",
            "AUC-ROC Score: 0.8981331168831169\n"
          ]
        }
      ],
      "source": [
        "\n",
        "# Calculate evaluation metrics for Bernoulli Naive Bayes\n",
        "print(\"Bernoulli Naive Bayes Evaluation:\")\n",
        "print(classification_report(y_test, bnb_predictions))\n",
        "print(\"Confusion Matrix:\")\n",
        "print(confusion_matrix(y_test, bnb_predictions))\n",
        "print(\"AUC-ROC Score:\", roc_auc_score(y_test, bnb.predict_proba(X_test_vectorized)[:, 1]))"
      ]
    },
    {
      "cell_type": "markdown",
      "id": "9b7675a2",
      "metadata": {
        "id": "9b7675a2"
      },
      "source": [
        "# SVM"
      ]
    },
    {
      "cell_type": "code",
      "execution_count": null,
      "id": "1bfe79f9",
      "metadata": {
        "id": "1bfe79f9"
      },
      "outputs": [],
      "source": [
        "from sklearn.feature_extraction.text import TfidfVectorizer\n",
        "from sklearn.svm import SVC\n"
      ]
    },
    {
      "cell_type": "code",
      "execution_count": null,
      "id": "4d453a7a",
      "metadata": {
        "id": "4d453a7a"
      },
      "outputs": [],
      "source": [
        "\n",
        "# Train the SVM model\n",
        "svm = SVC()\n",
        "svm.fit(X_train_vectorized, y_train)\n",
        "\n",
        "# Make predictions on the test set\n",
        "svm_predictions = svm.predict(X_test_vectorized)\n"
      ]
    },
    {
      "cell_type": "code",
      "execution_count": null,
      "id": "703b0a72",
      "metadata": {
        "id": "703b0a72",
        "colab": {
          "base_uri": "https://localhost:8080/"
        },
        "outputId": "3c7b21f1-bd4b-4554-b4f2-cccdc2a10353"
      },
      "outputs": [
        {
          "output_type": "stream",
          "name": "stdout",
          "text": [
            "SVM Evaluation:\n",
            "              precision    recall  f1-score   support\n",
            "\n",
            "    negative       0.78      0.89      0.83        44\n",
            "    positive       0.90      0.80      0.85        56\n",
            "\n",
            "    accuracy                           0.84       100\n",
            "   macro avg       0.84      0.84      0.84       100\n",
            "weighted avg       0.85      0.84      0.84       100\n",
            "\n",
            "Confusion Matrix:\n",
            "[[39  5]\n",
            " [11 45]]\n",
            "AUC-ROC Score: 0.9103084415584416\n"
          ]
        }
      ],
      "source": [
        "from sklearn.metrics import classification_report, confusion_matrix, roc_auc_score\n",
        "\n",
        "# Evaluate the performance of the SVM model\n",
        "print(\"SVM Evaluation:\")\n",
        "print(classification_report(y_test, svm_predictions))\n",
        "print(\"Confusion Matrix:\")\n",
        "print(confusion_matrix(y_test, svm_predictions))\n",
        "print(\"AUC-ROC Score:\", roc_auc_score(y_test, svm.decision_function(X_test_vectorized)))\n"
      ]
    },
    {
      "cell_type": "markdown",
      "id": "b843d206",
      "metadata": {
        "id": "b843d206"
      },
      "source": [
        "# Random forest Classifier"
      ]
    },
    {
      "cell_type": "code",
      "execution_count": null,
      "id": "4b288e92",
      "metadata": {
        "id": "4b288e92"
      },
      "outputs": [],
      "source": [
        "from sklearn.ensemble import RandomForestClassifier\n",
        "from sklearn.metrics import accuracy_score, precision_score, recall_score, f1_score"
      ]
    },
    {
      "cell_type": "code",
      "execution_count": null,
      "id": "f08297b3",
      "metadata": {
        "id": "f08297b3",
        "colab": {
          "base_uri": "https://localhost:8080/"
        },
        "outputId": "2c7a1cad-f2ae-46f6-d67e-b1f5aab8521f"
      },
      "outputs": [
        {
          "output_type": "stream",
          "name": "stdout",
          "text": [
            "Accuracy: 0.81\n",
            "Precision: 0.8096613627090983\n",
            "Recall: 0.81\n",
            "F1 Score: 0.8097487539416133\n"
          ]
        }
      ],
      "source": [
        "# Train the Random Forest model\n",
        "random_forest = RandomForestClassifier()\n",
        "random_forest.fit(X_train_vectorized, y_train)\n",
        "\n",
        "# Make predictions on the test set\n",
        "rf_predictions = random_forest.predict(X_test_vectorized)\n",
        "\n",
        "# Evaluate the performance of the model\n",
        "accuracy = accuracy_score(y_test, rf_predictions)\n",
        "precision = precision_score(y_test, rf_predictions, average='weighted')\n",
        "recall = recall_score(y_test, rf_predictions, average='weighted')\n",
        "f1 = f1_score(y_test, rf_predictions, average='weighted')\n",
        "\n",
        "print(\"Accuracy:\", accuracy)\n",
        "print(\"Precision:\", precision)\n",
        "print(\"Recall:\", recall)\n",
        "print(\"F1 Score:\", f1)"
      ]
    },
    {
      "cell_type": "markdown",
      "id": "6b47c0f4",
      "metadata": {
        "id": "6b47c0f4"
      },
      "source": [
        "# DecisionTree Classifier"
      ]
    },
    {
      "cell_type": "code",
      "execution_count": null,
      "id": "b369d152",
      "metadata": {
        "id": "b369d152",
        "colab": {
          "base_uri": "https://localhost:8080/"
        },
        "outputId": "d8223178-d378-4182-adb7-757aecca3ca8"
      },
      "outputs": [
        {
          "output_type": "stream",
          "name": "stdout",
          "text": [
            "Accuracy: 0.74\n",
            "Precision: 0.8\n",
            "Recall: 0.7142857142857143\n",
            "F1 Score: 0.7547169811320756\n"
          ]
        }
      ],
      "source": [
        "import pandas as pd\n",
        "from sklearn.model_selection import train_test_split\n",
        "from sklearn.tree import DecisionTreeClassifier\n",
        "from sklearn.feature_extraction.text import TfidfVectorizer\n",
        "from sklearn.metrics import accuracy_score, precision_score, recall_score, f1_score\n",
        "\n",
        "# Read the dataset from the CSV file\n",
        "data = pd.read_csv(r\"/content/data (2).csv\", encoding='unicode_escape', header=None, names=['label', 'text'])\n",
        "\n",
        "# Split the data into features and target variable\n",
        "X = data['text']\n",
        "y = data['label']\n",
        "\n",
        "# Split the data into training and testing sets\n",
        "X_train, X_test, y_train, y_test = train_test_split(X, y, test_size=0.2, random_state=42)\n",
        "\n",
        "# Preprocess the text data using TF-IDF vectorization\n",
        "vectorizer = TfidfVectorizer()\n",
        "X_train = vectorizer.fit_transform(X_train)\n",
        "X_test = vectorizer.transform(X_test)\n",
        "\n",
        "# Create the decision tree classifier\n",
        "classifier = DecisionTreeClassifier()\n",
        "\n",
        "# Train the classifier on the training data\n",
        "classifier.fit(X_train, y_train)\n",
        "\n",
        "# Make predictions on the test data\n",
        "y_pred = classifier.predict(X_test)\n",
        "\n",
        "# Evaluate the classifier\n",
        "accuracy = accuracy_score(y_test, y_pred)\n",
        "precision = precision_score(y_test, y_pred, pos_label='positive')\n",
        "recall = recall_score(y_test, y_pred, pos_label='positive')\n",
        "f1 = f1_score(y_test, y_pred, pos_label='positive')\n",
        "\n",
        "# Print the evaluation metrics\n",
        "print(\"Accuracy:\", accuracy)\n",
        "print(\"Precision:\", precision)\n",
        "print(\"Recall:\", recall)\n",
        "print(\"F1 Score:\", f1)\n"
      ]
    },
    {
      "cell_type": "markdown",
      "source": [
        "**KNN ALGORITHM**"
      ],
      "metadata": {
        "id": "DAs6EVTDKiN5"
      },
      "id": "DAs6EVTDKiN5"
    },
    {
      "cell_type": "code",
      "execution_count": null,
      "id": "d0a646e6",
      "metadata": {
        "id": "d0a646e6"
      },
      "outputs": [],
      "source": [
        "import pandas as pd\n",
        "from sklearn.feature_extraction.text import CountVectorizer\n",
        "from sklearn.model_selection import train_test_split\n",
        "\n",
        "# Import necessary modules\n",
        "from sklearn.neighbors import KNeighborsClassifier\n",
        "from sklearn.metrics import accuracy_score"
      ]
    },
    {
      "cell_type": "code",
      "source": [
        "X_train, X_test, y_train, y_test = train_test_split(data['text'], data['label'], test_size=0.2, random_state=42)"
      ],
      "metadata": {
        "id": "3_cmRj1gLHZt"
      },
      "id": "3_cmRj1gLHZt",
      "execution_count": null,
      "outputs": []
    },
    {
      "cell_type": "code",
      "source": [
        "vectorizer = CountVectorizer()\n",
        "X_train_vectorized = vectorizer.fit_transform(X_train)\n",
        "X_test_vectorized = vectorizer.transform(X_test)"
      ],
      "metadata": {
        "id": "qu_QNTRqLIsz"
      },
      "id": "qu_QNTRqLIsz",
      "execution_count": null,
      "outputs": []
    },
    {
      "cell_type": "code",
      "source": [
        "kn = KNeighborsClassifier()\n",
        "kn.fit(X_train_vectorized, y_train)\n",
        "kn_predictions = kn.predict(X_test_vectorized)\n",
        "kn_accuracy = accuracy_score(y_test, kn_predictions)\n",
        "print(\"KNeighborsClassifier Accuracy:\", kn_accuracy)"
      ],
      "metadata": {
        "colab": {
          "base_uri": "https://localhost:8080/"
        },
        "id": "Mfg3qLtYMX-W",
        "outputId": "af7cbc88-05c3-45f7-bb77-735bbe52a737"
      },
      "id": "Mfg3qLtYMX-W",
      "execution_count": null,
      "outputs": [
        {
          "output_type": "stream",
          "name": "stdout",
          "text": [
            "KNeighborsClassifier Accuracy: 0.83\n"
          ]
        }
      ]
    },
    {
      "cell_type": "markdown",
      "source": [
        "# Performance metrics\n"
      ],
      "metadata": {
        "id": "-8MWcCq3OBqS"
      },
      "id": "-8MWcCq3OBqS"
    },
    {
      "cell_type": "code",
      "source": [
        "from sklearn.metrics import classification_report, confusion_matrix, roc_auc_score\n",
        "\n",
        "# Calculate evaluation metrics for Multinomial Naive Bayes\n",
        "print(\"KNeighbors Classifier Evaluation:\")\n",
        "print(classification_report(y_test, kn_predictions))\n",
        "print(\"Confusion Matrix:\")\n",
        "print(confusion_matrix(y_test, kn_predictions))\n",
        "print(\"AUC-ROC Score:\", roc_auc_score(y_test, kn.predict_proba(X_test_vectorized)[:, 1]))"
      ],
      "metadata": {
        "colab": {
          "base_uri": "https://localhost:8080/"
        },
        "id": "_6UflwCANyLq",
        "outputId": "d462d50e-7c09-4d67-b80f-8deccb275d3c"
      },
      "id": "_6UflwCANyLq",
      "execution_count": null,
      "outputs": [
        {
          "output_type": "stream",
          "name": "stdout",
          "text": [
            "KNeighbors Classifier Evaluation:\n",
            "              precision    recall  f1-score   support\n",
            "\n",
            "    negative       0.83      0.77      0.80        44\n",
            "    positive       0.83      0.88      0.85        56\n",
            "\n",
            "    accuracy                           0.83       100\n",
            "   macro avg       0.83      0.82      0.83       100\n",
            "weighted avg       0.83      0.83      0.83       100\n",
            "\n",
            "Confusion Matrix:\n",
            "[[34 10]\n",
            " [ 7 49]]\n",
            "AUC-ROC Score: 0.8906250000000001\n"
          ]
        }
      ]
    },
    {
      "cell_type": "code",
      "source": [
        "import pandas as pd\n",
        "from sklearn.feature_extraction.text import CountVectorizer\n",
        "from sklearn.model_selection import train_test_split\n",
        "\n",
        "# Import necessary modules\n",
        "from sklearn.neighbors import KNeighborsClassifier\n",
        "from sklearn.metrics import accuracy_score"
      ],
      "metadata": {
        "id": "bf-_LHjkO2mv"
      },
      "id": "bf-_LHjkO2mv",
      "execution_count": null,
      "outputs": []
    },
    {
      "cell_type": "markdown",
      "source": [
        "**LOGISTIC** **REGRESSION**"
      ],
      "metadata": {
        "id": "gCdwvIFiPwHd"
      },
      "id": "gCdwvIFiPwHd"
    },
    {
      "cell_type": "code",
      "source": [
        "import pandas as pd\n",
        "from sklearn.feature_extraction.text import CountVectorizer\n",
        "from sklearn.model_selection import train_test_split\n",
        "\n",
        "# Import necessary modules\n",
        "from sklearn.linear_model import LogisticRegression\n",
        "from sklearn.metrics import accuracy_score"
      ],
      "metadata": {
        "id": "PAj3ti6qPrXd"
      },
      "id": "PAj3ti6qPrXd",
      "execution_count": null,
      "outputs": []
    },
    {
      "cell_type": "code",
      "source": [
        "X_train, X_test, y_train, y_test = train_test_split(data['text'], data['label'], test_size=0.2, random_state=42)"
      ],
      "metadata": {
        "id": "uuUZRJftQHqL"
      },
      "id": "uuUZRJftQHqL",
      "execution_count": null,
      "outputs": []
    },
    {
      "cell_type": "code",
      "source": [
        "vectorizer = CountVectorizer()\n",
        "X_train_vectorized = vectorizer.fit_transform(X_train)\n",
        "X_test_vectorized = vectorizer.transform(X_test)"
      ],
      "metadata": {
        "id": "nqctnlDfQIL1"
      },
      "id": "nqctnlDfQIL1",
      "execution_count": null,
      "outputs": []
    },
    {
      "cell_type": "code",
      "source": [
        "log = LogisticRegression()\n",
        "log.fit(X_train_vectorized, y_train)\n",
        "log_predictions = log.predict(X_test_vectorized)\n",
        "log_accuracy = accuracy_score(y_test, log_predictions)\n",
        "print(\"Logistic Regression Accuracy:\", log_accuracy)"
      ],
      "metadata": {
        "colab": {
          "base_uri": "https://localhost:8080/"
        },
        "id": "NT9jxWIlQMsx",
        "outputId": "33fbbc4e-b1fb-4b72-b8e5-e03ec9a023e8"
      },
      "id": "NT9jxWIlQMsx",
      "execution_count": null,
      "outputs": [
        {
          "output_type": "stream",
          "name": "stdout",
          "text": [
            "Logistic Regression Accuracy: 0.85\n"
          ]
        },
        {
          "output_type": "stream",
          "name": "stderr",
          "text": [
            "/usr/local/lib/python3.10/dist-packages/sklearn/linear_model/_logistic.py:458: ConvergenceWarning: lbfgs failed to converge (status=1):\n",
            "STOP: TOTAL NO. of ITERATIONS REACHED LIMIT.\n",
            "\n",
            "Increase the number of iterations (max_iter) or scale the data as shown in:\n",
            "    https://scikit-learn.org/stable/modules/preprocessing.html\n",
            "Please also refer to the documentation for alternative solver options:\n",
            "    https://scikit-learn.org/stable/modules/linear_model.html#logistic-regression\n",
            "  n_iter_i = _check_optimize_result(\n"
          ]
        }
      ]
    },
    {
      "cell_type": "code",
      "source": [
        "from sklearn.metrics import classification_report, confusion_matrix, roc_auc_score\n",
        "\n",
        "# Calculate evaluation metrics for Multinomial Naive Bayes\n",
        "print(\"KNeighbors Classifier Evaluation:\")\n",
        "print(classification_report(y_test, kn_predictions))\n",
        "print(\"Confusion Matrix:\")\n",
        "print(confusion_matrix(y_test, kn_predictions))\n",
        "print(\"AUC-ROC Score:\", roc_auc_score(y_test, kn.predict_proba(X_test_vectorized)[:, 1]))"
      ],
      "metadata": {
        "colab": {
          "base_uri": "https://localhost:8080/"
        },
        "id": "TBcHqsRjR4oH",
        "outputId": "f54f235b-4de5-41ae-9479-bff9f5945fa9"
      },
      "id": "TBcHqsRjR4oH",
      "execution_count": null,
      "outputs": [
        {
          "output_type": "stream",
          "name": "stdout",
          "text": [
            "KNeighbors Classifier Evaluation:\n",
            "              precision    recall  f1-score   support\n",
            "\n",
            "    negative       0.83      0.77      0.80        44\n",
            "    positive       0.83      0.88      0.85        56\n",
            "\n",
            "    accuracy                           0.83       100\n",
            "   macro avg       0.83      0.82      0.83       100\n",
            "weighted avg       0.83      0.83      0.83       100\n",
            "\n",
            "Confusion Matrix:\n",
            "[[34 10]\n",
            " [ 7 49]]\n",
            "AUC-ROC Score: 0.8906250000000001\n"
          ]
        }
      ]
    },
    {
      "cell_type": "code",
      "source": [
        "import matplotlib.pyplot as plt\n",
        "import seaborn as sns\n",
        "import numpy as np"
      ],
      "metadata": {
        "id": "FzDl_GZ6R5Nh"
      },
      "id": "FzDl_GZ6R5Nh",
      "execution_count": null,
      "outputs": []
    },
    {
      "cell_type": "code",
      "source": [
        "import matplotlib.pyplot as plt"
      ],
      "metadata": {
        "id": "I_Q20IFS-alb"
      },
      "id": "I_Q20IFS-alb",
      "execution_count": null,
      "outputs": []
    },
    {
      "cell_type": "code",
      "source": [
        "y=np.array([0.84,0.80,0.84,0.79,0.76,0.83,0.85])\n",
        "mylabels=[\"Multi-nomial Naïve Bayes\",\"Bernoulli Naïve Bayes\",\"SVM\",\"Random Forest\",\"DecisionTree\",\"KNN Algorithm\",\"Logistic Regression\"]\n",
        "plt.pie(y,labels=mylabels)\n",
        "plt.title(\"Different types of Algorithm Based on Accuracy\")\n",
        "plt.show()"
      ],
      "metadata": {
        "id": "J59sl2GYBtaw",
        "colab": {
          "base_uri": "https://localhost:8080/",
          "height": 428
        },
        "outputId": "c8fa55d1-82bd-457c-c364-d524752ffbfd"
      },
      "id": "J59sl2GYBtaw",
      "execution_count": null,
      "outputs": [
        {
          "output_type": "display_data",
          "data": {
            "text/plain": [
              "<Figure size 640x480 with 1 Axes>"
            ],
            "image/png": "[encoded data removed]"
          },
          "metadata": {}
        }
      ]
    },
    {
      "cell_type": "code",
      "source": [],
      "metadata": {
        "id": "f1o_5H4gLYAk"
      },
      "id": "f1o_5H4gLYAk",
      "execution_count": null,
      "outputs": []
    }
  ],
  "metadata": {
    "kernelspec": {
      "display_name": "Python 3 (ipykernel)",
      "language": "python",
      "name": "python3"
    },
    "language_info": {
      "codemirror_mode": {
        "name": "ipython",
        "version": 3
      },
      "file_extension": ".py",
      "mimetype": "text/x-python",
      "name": "python",
      "nbconvert_exporter": "python",
      "pygments_lexer": "ipython3",
      "version": "3.9.13"
    },
    "colab": {
      "provenance": []
    }
  },
  "nbformat": 4,
  "nbformat_minor": 5
}